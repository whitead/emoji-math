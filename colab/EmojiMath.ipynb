{
  "nbformat": 4,
  "nbformat_minor": 0,
  "metadata": {
    "colab": {
      "name": "EmojiMath.ipynb",
      "provenance": [],
      "collapsed_sections": []
    },
    "kernelspec": {
      "name": "python3",
      "display_name": "Python 3"
    },
    "language_info": {
      "name": "python"
    }
  },
  "cells": [
    {
      "cell_type": "code",
      "metadata": {
        "colab": {
          "base_uri": "https://localhost:8080/"
        },
        "id": "M2rlDp7Xy3oI",
        "collapsed": true,
        "cellView": "form",
        "outputId": "f64f3ca2-7457-4041-d566-82689eed4139"
      },
      "source": [
        "#@title Install Packages\n",
        "!pip install emath@git+git://github.com/whitead/emoji-math.git"
      ],
      "execution_count": null,
      "outputs": [
        {
          "output_type": "stream",
          "text": [
            "Collecting emath@ git+git://github.com/whitead/emoji-math.git\n",
            "  Cloning git://github.com/whitead/emoji-math.git to /tmp/pip-install-m6xm6mn6/emath_65e21cd7bb2446158e531d96cf316457\n",
            "  Running command git clone -q git://github.com/whitead/emoji-math.git /tmp/pip-install-m6xm6mn6/emath_65e21cd7bb2446158e531d96cf316457\n",
            "Requirement already satisfied: numpy in /usr/local/lib/python3.7/dist-packages (from emath@ git+git://github.com/whitead/emoji-math.git) (1.19.5)\n",
            "Requirement already satisfied: pandas in /usr/local/lib/python3.7/dist-packages (from emath@ git+git://github.com/whitead/emoji-math.git) (1.1.5)\n",
            "Requirement already satisfied: click in /usr/local/lib/python3.7/dist-packages (from emath@ git+git://github.com/whitead/emoji-math.git) (7.1.2)\n",
            "Requirement already satisfied: python-dateutil>=2.7.3 in /usr/local/lib/python3.7/dist-packages (from pandas->emath@ git+git://github.com/whitead/emoji-math.git) (2.8.1)\n",
            "Requirement already satisfied: pytz>=2017.2 in /usr/local/lib/python3.7/dist-packages (from pandas->emath@ git+git://github.com/whitead/emoji-math.git) (2018.9)\n",
            "Requirement already satisfied: six>=1.5 in /usr/local/lib/python3.7/dist-packages (from python-dateutil>=2.7.3->pandas->emath@ git+git://github.com/whitead/emoji-math.git) (1.15.0)\n",
            "Building wheels for collected packages: emath\n",
            "  Building wheel for emath (setup.py) ... \u001b[?25l\u001b[?25hdone\n",
            "  Created wheel for emath: filename=emath-1.5-py3-none-any.whl size=3823 sha256=1c3b1ebdf0481cab2e3a419594399e8d39e75304952833fac03d41523e4fe714\n",
            "  Stored in directory: /tmp/pip-ephem-wheel-cache-e0vwedwm/wheels/0b/40/ad/68375b55355701e949ffe6b7af33503d33dd1560ad27932635\n",
            "Successfully built emath\n",
            "Installing collected packages: emath\n",
            "Successfully installed emath-1.5\n"
          ],
          "name": "stdout"
        }
      ]
    },
    {
      "cell_type": "code",
      "metadata": {
        "id": "4W6Zb6xdu3qy",
        "cellView": "form"
      },
      "source": [
        "#@title Settings\n",
        "#@markdown Rerun this cell if you change settings\n",
        "normed_vectors = True #@param {type: \"boolean\"}\n",
        "metric = \"cosine similarity\" #@param [\"euclidean norm\", \"cosine similarity\"] {type:\"string\"}\n",
        "\n",
        "cosine = False\n",
        "if metric is \"cosine similarity\":\n",
        "  cosine = True\n",
        "import emath\n",
        "data, emojis = emath.get_data(normed=normed_vectors)"
      ],
      "execution_count": null,
      "outputs": []
    },
    {
      "cell_type": "code",
      "metadata": {
        "colab": {
          "base_uri": "https://localhost:8080/"
        },
        "id": "BWvyJ7c3zHh2",
        "cellView": "form",
        "outputId": "2d1cfa22-4576-4074-b36c-e5cd57ccb456"
      },
      "source": [
        "#@title Emoji Math\n",
        "EmojiEquation = \"\\uD83D\\uDE00+\\uD83D\\uDC31\" #@param {type:\"string\"}\n",
        "# WTF - why?\n",
        "expr = EmojiEquation.encode('utf-16','surrogatepass').decode('utf-16')\n",
        "print(expr)\n",
        "result = emath.exec_emojis(expr, data, emojis)\n",
        "print(emath.format_result(result, data, expr + ' = ', exclude=expr, cosine=cosine_similarity))"
      ],
      "execution_count": null,
      "outputs": [
        {
          "output_type": "stream",
          "text": [
            "😀+🐱\n",
            "Best Matches:\n",
            "  😀+🐱 = 😺\n",
            "  😀+🐱 = 😸\n",
            "  😀+🐱 = 😀\n"
          ],
          "name": "stdout"
        }
      ]
    }
  ]
}