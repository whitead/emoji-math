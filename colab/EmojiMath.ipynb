{
  "nbformat": 4,
  "nbformat_minor": 0,
  "metadata": {
    "colab": {
      "name": "EmojiMath.ipynb",
      "provenance": [],
      "collapsed_sections": []
    },
    "kernelspec": {
      "name": "python3",
      "display_name": "Python 3"
    },
    "language_info": {
      "name": "python"
    }
  },
  "cells": [
    {
      "cell_type": "code",
      "metadata": {
        "colab": {
          "base_uri": "https://localhost:8080/"
        },
        "id": "M2rlDp7Xy3oI",
        "collapsed": true,
        "cellView": "form",
        "outputId": "6045431d-beba-465c-bcf5-4872a352cf79"
      },
      "source": [
        "#@title Install Packages\n",
        "!pip install emath@git+git://github.com/whitead/emoji-math.git"
      ],
      "execution_count": 2,
      "outputs": [
        {
          "output_type": "stream",
          "text": [
            "Collecting emath@ git+git://github.com/whitead/emoji-math.git\n",
            "  Cloning git://github.com/whitead/emoji-math.git to /tmp/pip-install-gbwaw4b6/emath_abbec0b39a074ab386c80262b363698e\n",
            "  Running command git clone -q git://github.com/whitead/emoji-math.git /tmp/pip-install-gbwaw4b6/emath_abbec0b39a074ab386c80262b363698e\n",
            "Requirement already satisfied: numpy in /usr/local/lib/python3.7/dist-packages (from emath@ git+git://github.com/whitead/emoji-math.git) (1.19.5)\n",
            "Requirement already satisfied: pandas in /usr/local/lib/python3.7/dist-packages (from emath@ git+git://github.com/whitead/emoji-math.git) (1.1.5)\n",
            "Requirement already satisfied: click in /usr/local/lib/python3.7/dist-packages (from emath@ git+git://github.com/whitead/emoji-math.git) (7.1.2)\n",
            "Requirement already satisfied: pytz>=2017.2 in /usr/local/lib/python3.7/dist-packages (from pandas->emath@ git+git://github.com/whitead/emoji-math.git) (2018.9)\n",
            "Requirement already satisfied: python-dateutil>=2.7.3 in /usr/local/lib/python3.7/dist-packages (from pandas->emath@ git+git://github.com/whitead/emoji-math.git) (2.8.1)\n",
            "Requirement already satisfied: six>=1.5 in /usr/local/lib/python3.7/dist-packages (from python-dateutil>=2.7.3->pandas->emath@ git+git://github.com/whitead/emoji-math.git) (1.15.0)\n"
          ],
          "name": "stdout"
        }
      ]
    },
    {
      "cell_type": "code",
      "metadata": {
        "cellView": "form",
        "id": "4W6Zb6xdu3qy"
      },
      "source": [
        "#@title Set-Up Code\n",
        "import emath\n",
        "data, emojis = emath.get_data()"
      ],
      "execution_count": 4,
      "outputs": []
    },
    {
      "cell_type": "code",
      "metadata": {
        "colab": {
          "base_uri": "https://localhost:8080/"
        },
        "id": "BWvyJ7c3zHh2",
        "cellView": "form",
        "outputId": "17bce2d1-d152-4c0d-ae55-77d63df769ee"
      },
      "source": [
        "#@title Emoji Math\n",
        "EmojiEquation = \"\\uD83D\\uDE00+\\uD83D\\uDC31\" #@param {type:\"string\"}\n",
        "# WTF - why?\n",
        "expr = EmojiEquation.encode('utf-16','surrogatepass').decode('utf-16')\n",
        "print(expr)\n",
        "result = emath.exec_emojis(expr, data, emojis)\n",
        "print(emath.format_result(result, data, expr + ' = ', exclude=expr))"
      ],
      "execution_count": 11,
      "outputs": [
        {
          "output_type": "stream",
          "text": [
            "😀+🐱\n",
            "Best Matches:\n",
            "  😀+🐱 = 😺\n",
            "  😀+🐱 = 😸\n",
            "  😀+🐱 = 😀\n"
          ],
          "name": "stdout"
        }
      ]
    }
  ]
}