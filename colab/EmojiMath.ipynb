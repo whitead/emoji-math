{
  "nbformat": 4,
  "nbformat_minor": 0,
  "metadata": {
    "colab": {
      "name": "EmojiMath.ipynb",
      "provenance": []
    },
    "kernelspec": {
      "name": "python3",
      "display_name": "Python 3"
    },
    "language_info": {
      "name": "python"
    }
  },
  "cells": [
    {
      "cell_type": "code",
      "metadata": {
        "id": "M2rlDp7Xy3oI",
        "collapsed": true,
        "cellView": "form"
      },
      "source": [
        "#@title Install Packages\n",
        "!pip install emath@https://github.com/whitead/emoji-math/archive/refs/heads/main.zip"
      ],
      "execution_count": null,
      "outputs": []
    },
    {
      "cell_type": "code",
      "metadata": {
        "id": "4W6Zb6xdu3qy",
        "cellView": "form"
      },
      "source": [
        "#@title Settings\n",
        "#@markdown Rerun this cell if you change settings\n",
        "normed_vectors = True #@param {type: \"boolean\"}\n",
        "metric = \"cosine similarity\" #@param [\"euclidean norm\", \"cosine similarity\"] {type:\"string\"}\n",
        "\n",
        "cosine = False\n",
        "if metric == \"cosine similarity\":\n",
        "  cosine = True\n",
        "import emath\n",
        "data, emojis = emath.get_data(normed=normed_vectors)"
      ],
      "execution_count": null,
      "outputs": []
    },
    {
      "cell_type": "code",
      "metadata": {
        "colab": {
          "base_uri": "https://localhost:8080/"
        },
        "id": "BWvyJ7c3zHh2",
        "cellView": "form",
        "outputId": "7c9c6b1a-c37e-4c12-a3e2-084a48509956"
      },
      "source": [
        "#@title Emoji Math\n",
        "EmojiEquation = \"\\uD83D\\uDE00+\\uD83D\\uDC31\" #@param {type:\"string\"}\n",
        "# WTF - why?\n",
        "expr = EmojiEquation.encode('utf-16','surrogatepass').decode('utf-16')\n",
        "print(expr)\n",
        "result = emath.exec_emojis(expr, data, emojis)\n",
        "print(emath.format_result(result, data, expr + ' = ', exclude=expr, cosine=cosine))"
      ],
      "execution_count": 13,
      "outputs": [
        {
          "output_type": "stream",
          "name": "stdout",
          "text": [
            "😀+🐱\n",
            "Best Matches:\n",
            "  😀+🐱 = 😺\n",
            "  😀+🐱 = 😸\n",
            "  😀+🐱 = 😀\n"
          ]
        }
      ]
    }
  ]
}